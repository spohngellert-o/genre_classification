{
 "cells": [
  {
   "cell_type": "code",
   "execution_count": 1,
   "metadata": {},
   "outputs": [
    {
     "name": "stderr",
     "output_type": "stream",
     "text": [
      "c:\\users\\oliver spohngellert\\anaconda3\\envs\\tensorflow\\lib\\site-packages\\sklearn\\utils\\fixes.py:313: FutureWarning: numpy not_equal will not check object identity in the future. The comparison did not return the same result as suggested by the identity (`is`)) and will change.\n",
      "  _nan_object_mask = _nan_object_array != _nan_object_array\n",
      "Using TensorFlow backend.\n"
     ]
    }
   ],
   "source": [
    "import pandas as pd\n",
    "import numpy as np\n",
    "from sklearn.model_selection import train_test_split\n",
    "import toolz as tz\n",
    "from collections import Counter\n",
    "from operator import add\n",
    "from functools import reduce\n",
    "from sklearn.ensemble import RandomForestClassifier\n",
    "from sklearn.svm import SVC\n",
    "from sklearn.neural_network import MLPClassifier\n",
    "import codecs\n",
    "from fastText import train_supervised\n",
    "from sklearn.metrics import precision_recall_fscore_support\n",
    "from keras.layers import Dense, Embedding, LSTM, SpatialDropout1D, Flatten, Conv1D, Dropout\n",
    "from keras.preprocessing.text import Tokenizer\n",
    "from keras.preprocessing.sequence import pad_sequences\n",
    "from keras.models import Sequential\n",
    "from keras.optimizers import Adam\n",
    "from sklearn.feature_extraction.text import TfidfVectorizer\n",
    "import matplotlib.pyplot as plt\n",
    "from sklearn.metrics import confusion_matrix\n",
    "plt.rcParams[\"figure.figsize\"] = (10,7)\n",
    "import os\n",
    "from fastText import load_model"
   ]
  },
  {
   "cell_type": "code",
   "execution_count": 2,
   "metadata": {},
   "outputs": [],
   "source": [
    "plt.rcParams[\"figure.figsize\"] = (10,7)"
   ]
  },
  {
   "cell_type": "code",
   "execution_count": 3,
   "metadata": {},
   "outputs": [
    {
     "data": {
      "text/plain": [
       "(14203, 4)"
      ]
     },
     "execution_count": 3,
     "metadata": {},
     "output_type": "execute_result"
    }
   ],
   "source": [
    "lyrics_data = pd.read_csv('lyrics.csv')\n",
    "pop_data = pd.read_csv('lyricspop.csv')\n",
    "lyrics_data = pd.concat([lyrics_data, pop_data], ignore_index=True)\n",
    "lyrics_data.shape"
   ]
  },
  {
   "cell_type": "code",
   "execution_count": 4,
   "metadata": {},
   "outputs": [
    {
     "data": {
      "text/plain": [
       "308"
      ]
     },
     "execution_count": 4,
     "metadata": {},
     "output_type": "execute_result"
    }
   ],
   "source": [
    "len(lyrics_data.artist.unique())"
   ]
  },
  {
   "cell_type": "code",
   "execution_count": 5,
   "metadata": {},
   "outputs": [
    {
     "data": {
      "text/plain": [
       "{'country': 74, 'pop': 62, 'rap': 92, 'rock': 80}"
      ]
     },
     "execution_count": 5,
     "metadata": {},
     "output_type": "execute_result"
    }
   ],
   "source": [
    "artist_to_genre = {artist: lyrics_data[lyrics_data.artist == artist].genre.iloc[0] for artist in lyrics_data.artist.unique()}\n",
    "counts = {'rap': 0, 'rock': 0, 'pop': 0, 'country': 0}\n",
    "for artist in artist_to_genre:\n",
    "    counts[artist_to_genre[artist]] += 1\n",
    "    \n",
    "counts"
   ]
  },
  {
   "cell_type": "code",
   "execution_count": 6,
   "metadata": {},
   "outputs": [
    {
     "data": {
      "text/plain": [
       "rap        4291\n",
       "pop        3409\n",
       "country    3312\n",
       "rock       3191\n",
       "Name: genre, dtype: int64"
      ]
     },
     "execution_count": 6,
     "metadata": {},
     "output_type": "execute_result"
    }
   ],
   "source": [
    "lyrics_data.genre.value_counts()"
   ]
  },
  {
   "cell_type": "markdown",
   "metadata": {},
   "source": [
    "## Preprocessing"
   ]
  },
  {
   "cell_type": "code",
   "execution_count": 7,
   "metadata": {},
   "outputs": [],
   "source": [
    "def lyrics_reformat(lyrics):\n",
    "    lyrics = lyrics.strip().split('\\r\\n')\n",
    "    lyrics = [line for line in lyrics if line != '' and not line.startswith('[')]\n",
    "    return ' '.join(lyrics).replace(\",\", \"\").replace(\".\", \"\").replace(\"-\", \" \").replace(\"\\n\", \" \").lower()\n",
    "lyrics_data['lyrics_reformatted'] = lyrics_data.lyrics.apply(lyrics_reformat)"
   ]
  },
  {
   "cell_type": "code",
   "execution_count": 8,
   "metadata": {},
   "outputs": [],
   "source": [
    "def get_stats(preds, gts, labels):\n",
    "    print(\"Overall Accuracy: {}\".format(sum(preds == gts) / len(gts)))\n",
    "    prf = precision_recall_fscore_support(preds, gts)\n",
    "    for i in range(len(labels)):\n",
    "        print(\"Precision for class {}: {}\".format(labels[i], prf[0][i]))\n",
    "        print(\"Recall for class {}: {}\".format(labels[i], prf[1][i]))\n",
    "        print(\"F1 for class {}: {}\".format(labels[i], prf[2][i]))"
   ]
  },
  {
   "cell_type": "code",
   "execution_count": 9,
   "metadata": {},
   "outputs": [],
   "source": [
    "def get_fp_tp_rates(thresh, labels, pred_probs, cls):\n",
    "    preds = pred_probs > thresh\n",
    "    preds = [pred[cls] for pred in preds]\n",
    "    cmatrix = confusion_matrix(labels, preds)\n",
    "    tn, fp, fn, tp = cmatrix.ravel()\n",
    "    return (fp / (tn + fp), tp / (tp + fn))\n",
    "\n",
    "\n",
    "def get_as_x_y(model_rates):\n",
    "    rates_as_list = list(zip(*model_rates))\n",
    "    return rates_as_list[0], rates_as_list[1]\n",
    "\n",
    "def show_roc(pred_probs, y_test_set):\n",
    "    for i in genre_labels_reversed:\n",
    "        rates = [get_fp_tp_rates(thresh, y_test_set==i, pred_probs, i) for thresh in np.arange(0.0, 1.0, 0.05)]\n",
    "        x_roc, y_roc = get_as_x_y(rates)\n",
    "        plt.plot(x_roc, y_roc, label=genre_labels_reversed[i], markerfacecolor='none')\n",
    "    plt.legend()\n",
    "    plt.show()"
   ]
  },
  {
   "cell_type": "code",
   "execution_count": 10,
   "metadata": {},
   "outputs": [
    {
     "data": {
      "text/html": [
       "<div>\n",
       "<style scoped>\n",
       "    .dataframe tbody tr th:only-of-type {\n",
       "        vertical-align: middle;\n",
       "    }\n",
       "\n",
       "    .dataframe tbody tr th {\n",
       "        vertical-align: top;\n",
       "    }\n",
       "\n",
       "    .dataframe thead th {\n",
       "        text-align: right;\n",
       "    }\n",
       "</style>\n",
       "<table border=\"1\" class=\"dataframe\">\n",
       "  <thead>\n",
       "    <tr style=\"text-align: right;\">\n",
       "      <th></th>\n",
       "      <th>artist</th>\n",
       "      <th>genre</th>\n",
       "      <th>lyrics</th>\n",
       "      <th>name</th>\n",
       "      <th>lyrics_reformatted</th>\n",
       "    </tr>\n",
       "  </thead>\n",
       "  <tbody>\n",
       "    <tr>\n",
       "      <th>0</th>\n",
       "      <td>Scorpions</td>\n",
       "      <td>rock</td>\n",
       "      <td>\\r\\n\\r\\n[Verse 1]\\r\\nI've been around the worl...</td>\n",
       "      <td>tease me please me</td>\n",
       "      <td>i've been around the world i've known a lot of...</td>\n",
       "    </tr>\n",
       "    <tr>\n",
       "      <th>1</th>\n",
       "      <td>Scorpions</td>\n",
       "      <td>rock</td>\n",
       "      <td>\\r\\n\\r\\n[Verse 1]\\r\\nWhat you give, you get ba...</td>\n",
       "      <td>what u give u get back</td>\n",
       "      <td>what you give you get back as long as i can th...</td>\n",
       "    </tr>\n",
       "    <tr>\n",
       "      <th>2</th>\n",
       "      <td>Scorpions</td>\n",
       "      <td>rock</td>\n",
       "      <td>\\r\\n\\r\\nHey baby, listen up\\r\\nI'm not in love...</td>\n",
       "      <td>hate to be nice</td>\n",
       "      <td>hey baby listen up i'm not in love with you yo...</td>\n",
       "    </tr>\n",
       "    <tr>\n",
       "      <th>3</th>\n",
       "      <td>Scorpions</td>\n",
       "      <td>rock</td>\n",
       "      <td>\\r\\n\\r\\n[Verse 1]\\r\\nWe come to you through a ...</td>\n",
       "      <td>we let it rock . . . you let it roll</td>\n",
       "      <td>we come to you through a storm of lightning to...</td>\n",
       "    </tr>\n",
       "    <tr>\n",
       "      <th>4</th>\n",
       "      <td>Scorpions</td>\n",
       "      <td>rock</td>\n",
       "      <td>\\r\\n\\r\\n[Verse 1]\\r\\nAnother morning, such as ...</td>\n",
       "      <td>kicks after six</td>\n",
       "      <td>another morning such as ordinary day she's doi...</td>\n",
       "    </tr>\n",
       "  </tbody>\n",
       "</table>\n",
       "</div>"
      ],
      "text/plain": [
       "      artist genre                                             lyrics  \\\n",
       "0  Scorpions  rock  \\r\\n\\r\\n[Verse 1]\\r\\nI've been around the worl...   \n",
       "1  Scorpions  rock  \\r\\n\\r\\n[Verse 1]\\r\\nWhat you give, you get ba...   \n",
       "2  Scorpions  rock  \\r\\n\\r\\nHey baby, listen up\\r\\nI'm not in love...   \n",
       "3  Scorpions  rock  \\r\\n\\r\\n[Verse 1]\\r\\nWe come to you through a ...   \n",
       "4  Scorpions  rock  \\r\\n\\r\\n[Verse 1]\\r\\nAnother morning, such as ...   \n",
       "\n",
       "                                   name  \\\n",
       "0                    tease me please me   \n",
       "1                what u give u get back   \n",
       "2                       hate to be nice   \n",
       "3  we let it rock . . . you let it roll   \n",
       "4                       kicks after six   \n",
       "\n",
       "                                  lyrics_reformatted  \n",
       "0  i've been around the world i've known a lot of...  \n",
       "1  what you give you get back as long as i can th...  \n",
       "2  hey baby listen up i'm not in love with you yo...  \n",
       "3  we come to you through a storm of lightning to...  \n",
       "4  another morning such as ordinary day she's doi...  "
      ]
     },
     "execution_count": 10,
     "metadata": {},
     "output_type": "execute_result"
    }
   ],
   "source": [
    "lyrics_data.head()"
   ]
  },
  {
   "cell_type": "code",
   "execution_count": 11,
   "metadata": {},
   "outputs": [
    {
     "data": {
      "text/plain": [
       "array(['rock', 'country', 'rap', 'pop'], dtype=object)"
      ]
     },
     "execution_count": 11,
     "metadata": {},
     "output_type": "execute_result"
    }
   ],
   "source": [
    "lyrics_data.genre.unique()"
   ]
  },
  {
   "cell_type": "code",
   "execution_count": 12,
   "metadata": {},
   "outputs": [
    {
     "data": {
      "text/html": [
       "<div>\n",
       "<style scoped>\n",
       "    .dataframe tbody tr th:only-of-type {\n",
       "        vertical-align: middle;\n",
       "    }\n",
       "\n",
       "    .dataframe tbody tr th {\n",
       "        vertical-align: top;\n",
       "    }\n",
       "\n",
       "    .dataframe thead th {\n",
       "        text-align: right;\n",
       "    }\n",
       "</style>\n",
       "<table border=\"1\" class=\"dataframe\">\n",
       "  <thead>\n",
       "    <tr style=\"text-align: right;\">\n",
       "      <th></th>\n",
       "      <th>artist</th>\n",
       "      <th>genre</th>\n",
       "      <th>lyrics</th>\n",
       "      <th>name</th>\n",
       "      <th>lyrics_reformatted</th>\n",
       "      <th>genre_label</th>\n",
       "    </tr>\n",
       "  </thead>\n",
       "  <tbody>\n",
       "    <tr>\n",
       "      <th>0</th>\n",
       "      <td>Scorpions</td>\n",
       "      <td>rock</td>\n",
       "      <td>\\r\\n\\r\\n[Verse 1]\\r\\nI've been around the worl...</td>\n",
       "      <td>tease me please me</td>\n",
       "      <td>i've been around the world i've known a lot of...</td>\n",
       "      <td>0</td>\n",
       "    </tr>\n",
       "    <tr>\n",
       "      <th>1</th>\n",
       "      <td>Scorpions</td>\n",
       "      <td>rock</td>\n",
       "      <td>\\r\\n\\r\\n[Verse 1]\\r\\nWhat you give, you get ba...</td>\n",
       "      <td>what u give u get back</td>\n",
       "      <td>what you give you get back as long as i can th...</td>\n",
       "      <td>0</td>\n",
       "    </tr>\n",
       "    <tr>\n",
       "      <th>2</th>\n",
       "      <td>Scorpions</td>\n",
       "      <td>rock</td>\n",
       "      <td>\\r\\n\\r\\nHey baby, listen up\\r\\nI'm not in love...</td>\n",
       "      <td>hate to be nice</td>\n",
       "      <td>hey baby listen up i'm not in love with you yo...</td>\n",
       "      <td>0</td>\n",
       "    </tr>\n",
       "    <tr>\n",
       "      <th>3</th>\n",
       "      <td>Scorpions</td>\n",
       "      <td>rock</td>\n",
       "      <td>\\r\\n\\r\\n[Verse 1]\\r\\nWe come to you through a ...</td>\n",
       "      <td>we let it rock . . . you let it roll</td>\n",
       "      <td>we come to you through a storm of lightning to...</td>\n",
       "      <td>0</td>\n",
       "    </tr>\n",
       "    <tr>\n",
       "      <th>4</th>\n",
       "      <td>Scorpions</td>\n",
       "      <td>rock</td>\n",
       "      <td>\\r\\n\\r\\n[Verse 1]\\r\\nAnother morning, such as ...</td>\n",
       "      <td>kicks after six</td>\n",
       "      <td>another morning such as ordinary day she's doi...</td>\n",
       "      <td>0</td>\n",
       "    </tr>\n",
       "  </tbody>\n",
       "</table>\n",
       "</div>"
      ],
      "text/plain": [
       "      artist genre                                             lyrics  \\\n",
       "0  Scorpions  rock  \\r\\n\\r\\n[Verse 1]\\r\\nI've been around the worl...   \n",
       "1  Scorpions  rock  \\r\\n\\r\\n[Verse 1]\\r\\nWhat you give, you get ba...   \n",
       "2  Scorpions  rock  \\r\\n\\r\\nHey baby, listen up\\r\\nI'm not in love...   \n",
       "3  Scorpions  rock  \\r\\n\\r\\n[Verse 1]\\r\\nWe come to you through a ...   \n",
       "4  Scorpions  rock  \\r\\n\\r\\n[Verse 1]\\r\\nAnother morning, such as ...   \n",
       "\n",
       "                                   name  \\\n",
       "0                    tease me please me   \n",
       "1                what u give u get back   \n",
       "2                       hate to be nice   \n",
       "3  we let it rock . . . you let it roll   \n",
       "4                       kicks after six   \n",
       "\n",
       "                                  lyrics_reformatted  genre_label  \n",
       "0  i've been around the world i've known a lot of...            0  \n",
       "1  what you give you get back as long as i can th...            0  \n",
       "2  hey baby listen up i'm not in love with you yo...            0  \n",
       "3  we come to you through a storm of lightning to...            0  \n",
       "4  another morning such as ordinary day she's doi...            0  "
      ]
     },
     "execution_count": 12,
     "metadata": {},
     "output_type": "execute_result"
    }
   ],
   "source": [
    "genres = lyrics_data.genre.unique()\n",
    "genre_labels = {genre: i for i,genre in enumerate(genres)}\n",
    "genre_labels_reversed = {v: k for k, v in genre_labels.items()}\n",
    "lyrics_data['genre_label'] = lyrics_data.genre.map(genre_labels)\n",
    "lyrics_data.head()"
   ]
  },
  {
   "cell_type": "markdown",
   "metadata": {},
   "source": [
    "We need to exclude some artists from training to properly test."
   ]
  },
  {
   "cell_type": "code",
   "execution_count": 13,
   "metadata": {
    "scrolled": true
   },
   "outputs": [],
   "source": [
    "def get_random_artists(genre, n):\n",
    "    lyrics_data_genre = lyrics_data[lyrics_data.genre == genre]\n",
    "    artists = lyrics_data_genre.artist.unique()\n",
    "    indeces = np.random.randint(len(artists), size=n)\n",
    "    while len(set(indeces)) != n:\n",
    "        indeces = np.random.randint(len(artists), size=n)\n",
    "        \n",
    "    return artists[indeces]\n",
    "  \n",
    "np.random.seed(2343)\n",
    "artists_test = []\n",
    "artists_val = []\n",
    "for genre in lyrics_data.genre.unique():\n",
    "    gotten_artists = list(get_random_artists(genre, 4))\n",
    "    artists_test += gotten_artists[:2]\n",
    "    artists_val += gotten_artists[2:]\n",
    "    \n"
   ]
  },
  {
   "cell_type": "code",
   "execution_count": 14,
   "metadata": {},
   "outputs": [],
   "source": [
    "lyrics_data_test_artists = lyrics_data[[artist in artists_test for artist in lyrics_data.artist]]\n",
    "lyrics_data_val_artists = lyrics_data[[artist in artists_val for artist in lyrics_data.artist]]\n",
    "lyrics_data_train_artists = lyrics_data[[(artist not in artists_test and artist not in artists_val) for artist in lyrics_data.artist]]\n"
   ]
  },
  {
   "cell_type": "code",
   "execution_count": 15,
   "metadata": {},
   "outputs": [],
   "source": [
    "X = lyrics_data_train_artists.lyrics_reformatted\n",
    "y = lyrics_data_train_artists.genre_label"
   ]
  },
  {
   "cell_type": "code",
   "execution_count": 16,
   "metadata": {},
   "outputs": [],
   "source": [
    "X_train, X_test, y_train, y_test = train_test_split(X, y, random_state=684, test_size=0.125)\n",
    "X_val, X_test, y_val, y_test = train_test_split(X_test, y_test, test_size=0.5)\n",
    "X_test_artists = lyrics_data_test_artists.lyrics_reformatted\n",
    "y_test_artists = lyrics_data_test_artists.genre_label\n",
    "X_val_artists = lyrics_data_val_artists.lyrics_reformatted\n",
    "y_val_artists = lyrics_data_val_artists.genre_label"
   ]
  },
  {
   "cell_type": "code",
   "execution_count": 17,
   "metadata": {},
   "outputs": [
    {
     "data": {
      "text/plain": [
       "(11698,)"
      ]
     },
     "execution_count": 17,
     "metadata": {},
     "output_type": "execute_result"
    }
   ],
   "source": [
    "X_train.shape"
   ]
  },
  {
   "cell_type": "code",
   "execution_count": 18,
   "metadata": {},
   "outputs": [
    {
     "data": {
      "text/plain": [
       "(836,)"
      ]
     },
     "execution_count": 18,
     "metadata": {},
     "output_type": "execute_result"
    }
   ],
   "source": [
    "X_test.shape"
   ]
  },
  {
   "cell_type": "code",
   "execution_count": 19,
   "metadata": {},
   "outputs": [
    {
     "data": {
      "text/plain": [
       "(836,)"
      ]
     },
     "execution_count": 19,
     "metadata": {},
     "output_type": "execute_result"
    }
   ],
   "source": [
    "X_val.shape"
   ]
  },
  {
   "cell_type": "markdown",
   "metadata": {},
   "source": [
    "## Bag of Words Approach"
   ]
  },
  {
   "cell_type": "code",
   "execution_count": 19,
   "metadata": {},
   "outputs": [
    {
     "name": "stdout",
     "output_type": "stream",
     "text": [
      "['solution', 'city', 'provides', 'ability', 'respondent', 'must', 'any', 'service', 'hey', 'information', 'their', 'other', 'data', 'request', 'has', 'services', 'another', 'may', 'people', 'rock', 'ooh', 'provide', 'light', 'proposal', 'each', 'old', 'please', 'contractor', 'should', 'system', 'roll', 'work', 'its', 'la', 'requests', 'old', 'him', \"i'd\", \"you'll\", 'lord', 'blue', 'left', 'sweet', \"he's\", 'true', 'last', \"you've\", 'two', 'alone', 'mine', 'town', 'leave', 'woman', 'song', 'wrong', 'am', 'place', 'cry', 'those', 'big', 'another', 'has', 'found', 'their', 'fall', 'thought', 'hand', 'while', 'lonely', 'nigga', 'shit', 'niggas', 'fuck', 'ya', 'yo', 'bitch', 'people', 'money', \"'em\", 'put', 'ass', 'real', 'i’m', \"y'all\", 'gotta', 'music', 'hit', 'him', 'because', 'rock', 'big', 'black', 'two', 'game', 'show', 'talk', 'play', 'uh', 'rap', 'high', 'it’s', 'first', 'head', \"let's\", 'same', 'boy', 'god', 'watch', 'don’t', 'house', 'bad', 'mean', 'name', \"gon'\", 'everybody', 'done', 'whole', 'face', 'while', 'bitches', 'other', 'la', 'ooh', 'na', 'hey', 'gotta', 'show', 'put', 'am', \"let's\", 'ya', 'i’m', 'everything', 'leave', 'stay', 'bad', 'money', 'boy', 'que', 'fall', 'ah', 'body', 'mine', 'same', 'without', 'shit', 'should', 'alone', \"you've\", 'nobody', 'myself', 'da']\n"
     ]
    }
   ],
   "source": [
    "def get_most_common_words(lyric_list):\n",
    "    all_words = []\n",
    "    for lyrics in lyric_list:\n",
    "        all_words += lyrics.split(\" \")\n",
    "    word_counts = sorted(tz.recipes.countby(lambda x: x, all_words).items(), key=lambda x: -x[1])\n",
    "    return [wc[0] for wc in word_counts[0:200]]\n",
    "    \n",
    "word_counts_by_genre = {genre: get_most_common_words(X_train[y_train == genre_labels[genre]]) for genre in genre_labels}\n",
    "    \n",
    "features = []\n",
    "for genre in genre_labels:\n",
    "    words = word_counts_by_genre[genre]\n",
    "    others = []\n",
    "    for ogenre in genre_labels:\n",
    "        if ogenre != genre: others += word_counts_by_genre[ogenre]\n",
    "    features += [word for word in words if others.count(word) <= 1]\n",
    "\n",
    "print(features)"
   ]
  },
  {
   "cell_type": "code",
   "execution_count": 20,
   "metadata": {},
   "outputs": [],
   "source": [
    "def lyrics_to_features(features, lyrics):\n",
    "    lyric_array = lyrics.split(\" \")\n",
    "    return {word: lyric_array.count(word) for word in features}"
   ]
  },
  {
   "cell_type": "code",
   "execution_count": 21,
   "metadata": {},
   "outputs": [
    {
     "data": {
      "text/html": [
       "<div>\n",
       "<style scoped>\n",
       "    .dataframe tbody tr th:only-of-type {\n",
       "        vertical-align: middle;\n",
       "    }\n",
       "\n",
       "    .dataframe tbody tr th {\n",
       "        vertical-align: top;\n",
       "    }\n",
       "\n",
       "    .dataframe thead th {\n",
       "        text-align: right;\n",
       "    }\n",
       "</style>\n",
       "<table border=\"1\" class=\"dataframe\">\n",
       "  <thead>\n",
       "    <tr style=\"text-align: right;\">\n",
       "      <th></th>\n",
       "      <th>'em</th>\n",
       "      <th>ability</th>\n",
       "      <th>ah</th>\n",
       "      <th>alone</th>\n",
       "      <th>am</th>\n",
       "      <th>another</th>\n",
       "      <th>any</th>\n",
       "      <th>ass</th>\n",
       "      <th>bad</th>\n",
       "      <th>because</th>\n",
       "      <th>...</th>\n",
       "      <th>whole</th>\n",
       "      <th>without</th>\n",
       "      <th>woman</th>\n",
       "      <th>work</th>\n",
       "      <th>wrong</th>\n",
       "      <th>y'all</th>\n",
       "      <th>ya</th>\n",
       "      <th>yo</th>\n",
       "      <th>you'll</th>\n",
       "      <th>you've</th>\n",
       "    </tr>\n",
       "  </thead>\n",
       "  <tbody>\n",
       "    <tr>\n",
       "      <th>0</th>\n",
       "      <td>0</td>\n",
       "      <td>0</td>\n",
       "      <td>0</td>\n",
       "      <td>1</td>\n",
       "      <td>0</td>\n",
       "      <td>0</td>\n",
       "      <td>0</td>\n",
       "      <td>0</td>\n",
       "      <td>0</td>\n",
       "      <td>0</td>\n",
       "      <td>...</td>\n",
       "      <td>0</td>\n",
       "      <td>0</td>\n",
       "      <td>0</td>\n",
       "      <td>0</td>\n",
       "      <td>0</td>\n",
       "      <td>0</td>\n",
       "      <td>0</td>\n",
       "      <td>0</td>\n",
       "      <td>0</td>\n",
       "      <td>0</td>\n",
       "    </tr>\n",
       "    <tr>\n",
       "      <th>1</th>\n",
       "      <td>0</td>\n",
       "      <td>0</td>\n",
       "      <td>0</td>\n",
       "      <td>0</td>\n",
       "      <td>0</td>\n",
       "      <td>0</td>\n",
       "      <td>0</td>\n",
       "      <td>0</td>\n",
       "      <td>0</td>\n",
       "      <td>0</td>\n",
       "      <td>...</td>\n",
       "      <td>0</td>\n",
       "      <td>0</td>\n",
       "      <td>0</td>\n",
       "      <td>0</td>\n",
       "      <td>0</td>\n",
       "      <td>0</td>\n",
       "      <td>0</td>\n",
       "      <td>0</td>\n",
       "      <td>0</td>\n",
       "      <td>0</td>\n",
       "    </tr>\n",
       "    <tr>\n",
       "      <th>2</th>\n",
       "      <td>0</td>\n",
       "      <td>0</td>\n",
       "      <td>0</td>\n",
       "      <td>0</td>\n",
       "      <td>0</td>\n",
       "      <td>0</td>\n",
       "      <td>0</td>\n",
       "      <td>0</td>\n",
       "      <td>0</td>\n",
       "      <td>0</td>\n",
       "      <td>...</td>\n",
       "      <td>0</td>\n",
       "      <td>0</td>\n",
       "      <td>0</td>\n",
       "      <td>0</td>\n",
       "      <td>0</td>\n",
       "      <td>0</td>\n",
       "      <td>0</td>\n",
       "      <td>0</td>\n",
       "      <td>0</td>\n",
       "      <td>0</td>\n",
       "    </tr>\n",
       "    <tr>\n",
       "      <th>3</th>\n",
       "      <td>0</td>\n",
       "      <td>0</td>\n",
       "      <td>0</td>\n",
       "      <td>0</td>\n",
       "      <td>0</td>\n",
       "      <td>0</td>\n",
       "      <td>0</td>\n",
       "      <td>0</td>\n",
       "      <td>0</td>\n",
       "      <td>0</td>\n",
       "      <td>...</td>\n",
       "      <td>0</td>\n",
       "      <td>0</td>\n",
       "      <td>0</td>\n",
       "      <td>0</td>\n",
       "      <td>0</td>\n",
       "      <td>0</td>\n",
       "      <td>0</td>\n",
       "      <td>0</td>\n",
       "      <td>2</td>\n",
       "      <td>0</td>\n",
       "    </tr>\n",
       "    <tr>\n",
       "      <th>4</th>\n",
       "      <td>0</td>\n",
       "      <td>0</td>\n",
       "      <td>0</td>\n",
       "      <td>0</td>\n",
       "      <td>0</td>\n",
       "      <td>0</td>\n",
       "      <td>0</td>\n",
       "      <td>0</td>\n",
       "      <td>0</td>\n",
       "      <td>0</td>\n",
       "      <td>...</td>\n",
       "      <td>0</td>\n",
       "      <td>0</td>\n",
       "      <td>0</td>\n",
       "      <td>2</td>\n",
       "      <td>0</td>\n",
       "      <td>0</td>\n",
       "      <td>0</td>\n",
       "      <td>0</td>\n",
       "      <td>0</td>\n",
       "      <td>0</td>\n",
       "    </tr>\n",
       "  </tbody>\n",
       "</table>\n",
       "<p>5 rows × 120 columns</p>\n",
       "</div>"
      ],
      "text/plain": [
       "   'em  ability  ah  alone  am  another  any  ass  bad  because   ...    \\\n",
       "0    0        0   0      1   0        0    0    0    0        0   ...     \n",
       "1    0        0   0      0   0        0    0    0    0        0   ...     \n",
       "2    0        0   0      0   0        0    0    0    0        0   ...     \n",
       "3    0        0   0      0   0        0    0    0    0        0   ...     \n",
       "4    0        0   0      0   0        0    0    0    0        0   ...     \n",
       "\n",
       "   whole  without  woman  work  wrong  y'all  ya  yo  you'll  you've  \n",
       "0      0        0      0     0      0      0   0   0       0       0  \n",
       "1      0        0      0     0      0      0   0   0       0       0  \n",
       "2      0        0      0     0      0      0   0   0       0       0  \n",
       "3      0        0      0     0      0      0   0   0       2       0  \n",
       "4      0        0      0     2      0      0   0   0       0       0  \n",
       "\n",
       "[5 rows x 120 columns]"
      ]
     },
     "execution_count": 21,
     "metadata": {},
     "output_type": "execute_result"
    }
   ],
   "source": [
    "X_train_featurized = pd.DataFrame([lyrics_to_features(features, lyrics) for lyrics in X_train])\n",
    "X_test_featurized = pd.DataFrame([lyrics_to_features(features, lyrics) for lyrics in X_test])\n",
    "X_test_artists_featurized = pd.DataFrame([lyrics_to_features(features, lyrics) for lyrics in X_test_artists])\n",
    "X_val_featurized = pd.DataFrame([lyrics_to_features(features, lyrics) for lyrics in X_val])\n",
    "X_val_artists_featurized = pd.DataFrame([lyrics_to_features(features, lyrics) for lyrics in X_val_artists])\n",
    "X_train_featurized.head()"
   ]
  },
  {
   "cell_type": "code",
   "execution_count": 22,
   "metadata": {
    "scrolled": true
   },
   "outputs": [
    {
     "data": {
      "text/plain": [
       "(11698, 120)"
      ]
     },
     "execution_count": 22,
     "metadata": {},
     "output_type": "execute_result"
    }
   ],
   "source": [
    "X_train_featurized.shape"
   ]
  },
  {
   "cell_type": "code",
   "execution_count": 23,
   "metadata": {},
   "outputs": [
    {
     "data": {
      "text/plain": [
       "RandomForestClassifier(bootstrap=True, class_weight=None, criterion='gini',\n",
       "            max_depth=40, max_features='auto', max_leaf_nodes=None,\n",
       "            min_impurity_decrease=0.0, min_impurity_split=None,\n",
       "            min_samples_leaf=1, min_samples_split=2,\n",
       "            min_weight_fraction_leaf=0.0, n_estimators=100, n_jobs=None,\n",
       "            oob_score=False, random_state=3, verbose=0, warm_start=False)"
      ]
     },
     "execution_count": 23,
     "metadata": {},
     "output_type": "execute_result"
    }
   ],
   "source": [
    "rf = RandomForestClassifier(n_estimators=100, max_depth=40, random_state=3)\n",
    "rf.fit(X_train_featurized, y_train)"
   ]
  },
  {
   "cell_type": "code",
   "execution_count": 24,
   "metadata": {
    "scrolled": false
   },
   "outputs": [
    {
     "name": "stdout",
     "output_type": "stream",
     "text": [
      "Stats on val same artists\n",
      "\n",
      "Overall Accuracy: 0.6638755980861244\n",
      "Precision for class rock: 0.5729166666666666\n",
      "Recall for class rock: 0.5392156862745098\n",
      "F1 for class rock: 0.5555555555555555\n",
      "Precision for class country: 0.6338797814207651\n",
      "Recall for class country: 0.5714285714285714\n",
      "F1 for class country: 0.6010362694300518\n",
      "Precision for class rap: 0.8768115942028986\n",
      "Recall for class rap: 0.8581560283687943\n",
      "F1 for class rap: 0.8673835125448028\n",
      "Precision for class pop: 0.4702702702702703\n",
      "Recall for class pop: 0.5918367346938775\n",
      "F1 for class pop: 0.5240963855421686\n",
      "\n",
      "Stats on val new artists\n",
      "\n",
      "Overall Accuracy: 0.6190476190476191\n",
      "Precision for class rock: 0.6363636363636364\n",
      "Recall for class rock: 0.4666666666666667\n",
      "F1 for class rock: 0.5384615384615385\n",
      "Precision for class country: 0.5546218487394958\n",
      "Recall for class country: 0.6055045871559633\n",
      "F1 for class country: 0.5789473684210525\n",
      "Precision for class rap: 0.8380952380952381\n",
      "Recall for class rap: 0.9565217391304348\n",
      "F1 for class rap: 0.8934010152284265\n",
      "Precision for class pop: 0.42528735632183906\n",
      "Recall for class pop: 0.47435897435897434\n",
      "F1 for class pop: 0.4484848484848485\n",
      "\n",
      "Stats on train\n",
      "Overall Accuracy: 0.9285347922721833\n",
      "Precision for class rock: 0.9518348623853211\n",
      "Recall for class rock: 0.8108108108108109\n",
      "F1 for class rock: 0.8756813785827325\n",
      "Precision for class country: 0.917427840701498\n",
      "Recall for class country: 0.9147540983606557\n",
      "F1 for class country: 0.916089018606348\n",
      "Precision for class rap: 0.9527872582480091\n",
      "Recall for class rap: 0.9994033412887828\n",
      "F1 for class rap: 0.9755387303436225\n",
      "Precision for class pop: 0.887592788971368\n",
      "Recall for class pop: 0.9924901185770751\n",
      "F1 for class pop: 0.9371151334204143\n"
     ]
    }
   ],
   "source": [
    "print(\"Stats on val same artists\\n\")\n",
    "preds = rf.predict(X_val_featurized)\n",
    "get_stats(preds, y_val, genre_labels_reversed)\n",
    "\n",
    "print(\"\\nStats on val new artists\\n\")\n",
    "preds = rf.predict(X_val_artists_featurized)\n",
    "get_stats(preds, y_val_artists, genre_labels_reversed)\n",
    "\n",
    "print(\"\\nStats on train\")\n",
    "preds = rf.predict(X_train_featurized)\n",
    "get_stats(preds, y_train, genre_labels_reversed)"
   ]
  },
  {
   "cell_type": "code",
   "execution_count": 145,
   "metadata": {
    "scrolled": false
   },
   "outputs": [
    {
     "data": {
      "image/png": "[encoded data removed]",
      "text/plain": [
       "<matplotlib.figure.Figure at 0x1cda4d9d240>"
      ]
     },
     "metadata": {},
     "output_type": "display_data"
    }
   ],
   "source": [
    "show_roc(rf.predict_proba(X_val_featurized), y_val)"
   ]
  },
  {
   "cell_type": "code",
   "execution_count": 26,
   "metadata": {},
   "outputs": [
    {
     "data": {
      "image/png": "[encoded data removed]",
      "text/plain": [
       "<matplotlib.figure.Figure at 0x1cdf28997b8>"
      ]
     },
     "metadata": {},
     "output_type": "display_data"
    }
   ],
   "source": [
    "show_roc(rf.predict_proba(X_val_artists_featurized), X_val_artists_featurized, y_val_artists)"
   ]
  },
  {
   "cell_type": "code",
   "execution_count": 27,
   "metadata": {},
   "outputs": [
    {
     "data": {
      "text/plain": [
       "MLPClassifier(activation='relu', alpha=3, batch_size='auto', beta_1=0.9,\n",
       "       beta_2=0.999, early_stopping=False, epsilon=1e-08,\n",
       "       hidden_layer_sizes=(100, 100, 20), learning_rate='constant',\n",
       "       learning_rate_init=0.001, max_iter=1000, momentum=0.9,\n",
       "       n_iter_no_change=10, nesterovs_momentum=True, power_t=0.5,\n",
       "       random_state=2, shuffle=True, solver='sgd', tol=0.0001,\n",
       "       validation_fraction=0.1, verbose=False, warm_start=False)"
      ]
     },
     "execution_count": 27,
     "metadata": {},
     "output_type": "execute_result"
    }
   ],
   "source": [
    "clf = MLPClassifier(solver='sgd', alpha=3, hidden_layer_sizes=(100, 100, 20), random_state=2, max_iter=1000)\n",
    "clf.fit(X_train_featurized, y_train)"
   ]
  },
  {
   "cell_type": "code",
   "execution_count": 28,
   "metadata": {
    "scrolled": false
   },
   "outputs": [
    {
     "name": "stdout",
     "output_type": "stream",
     "text": [
      "Stats on val same artists\n",
      "\n",
      "Overall Accuracy: 0.6483253588516746\n",
      "Precision for class rock: 0.4895833333333333\n",
      "Recall for class rock: 0.5222222222222223\n",
      "F1 for class rock: 0.5053763440860215\n",
      "Precision for class country: 0.6284153005464481\n",
      "Recall for class country: 0.5348837209302325\n",
      "F1 for class country: 0.5778894472361807\n",
      "Precision for class rap: 0.8695652173913043\n",
      "Recall for class rap: 0.8571428571428571\n",
      "F1 for class rap: 0.8633093525179856\n",
      "Precision for class pop: 0.5027027027027027\n",
      "Recall for class pop: 0.577639751552795\n",
      "F1 for class pop: 0.5375722543352601\n",
      "\n",
      "Stats on val new artists\n",
      "\n",
      "Overall Accuracy: 0.5939849624060151\n",
      "Precision for class rock: 0.6590909090909091\n",
      "Recall for class rock: 0.48333333333333334\n",
      "F1 for class rock: 0.5576923076923077\n",
      "Precision for class country: 0.5630252100840336\n",
      "Recall for class country: 0.6261682242990654\n",
      "F1 for class country: 0.5929203539823009\n",
      "Precision for class rap: 0.7333333333333333\n",
      "Recall for class rap: 0.927710843373494\n",
      "F1 for class rap: 0.8191489361702127\n",
      "Precision for class pop: 0.40229885057471265\n",
      "Recall for class pop: 0.39325842696629215\n",
      "F1 for class pop: 0.39772727272727276\n",
      "\n",
      "Stats on train artists\n",
      "Overall Accuracy: 0.690801846469482\n",
      "Precision for class rock: 0.4900611620795107\n",
      "Recall for class rock: 0.50078125\n",
      "F1 for class rock: 0.4953632148377125\n",
      "Precision for class country: 0.6821337230544392\n",
      "Recall for class country: 0.585633626097867\n",
      "F1 for class country: 0.630210970464135\n",
      "Precision for class rap: 0.893344709897611\n",
      "Recall for class rap: 0.9303909952606635\n",
      "F1 for class rap: 0.9114915844457341\n",
      "Precision for class pop: 0.633085896076352\n",
      "Recall for class pop: 0.6958041958041958\n",
      "F1 for class pop: 0.6629650194336479\n"
     ]
    }
   ],
   "source": [
    "print(\"Stats on val same artists\\n\")\n",
    "preds = clf.predict(X_val_featurized)\n",
    "get_stats(preds, y_val, genre_labels_reversed)\n",
    "\n",
    "print(\"\\nStats on val new artists\\n\")\n",
    "preds = clf.predict(X_val_artists_featurized)\n",
    "get_stats(preds, y_val_artists, genre_labels_reversed)\n",
    "\n",
    "print(\"\\nStats on train artists\")\n",
    "preds = clf.predict(X_train_featurized)\n",
    "get_stats(preds, y_train, genre_labels_reversed)"
   ]
  },
  {
   "cell_type": "code",
   "execution_count": 29,
   "metadata": {
    "scrolled": false
   },
   "outputs": [
    {
     "data": {
      "image/png": "[encoded data removed]",
      "text/plain": [
       "<matplotlib.figure.Figure at 0x1cdf2556668>"
      ]
     },
     "metadata": {},
     "output_type": "display_data"
    }
   ],
   "source": [
    "show_roc(clf.predict_proba(X_val_featurized), X_val_featurized, y_val)"
   ]
  },
  {
   "cell_type": "code",
   "execution_count": 30,
   "metadata": {},
   "outputs": [
    {
     "data": {
      "image/png": "[encoded data removed]",
      "text/plain": [
       "<matplotlib.figure.Figure at 0x1cdf2ef0e48>"
      ]
     },
     "metadata": {},
     "output_type": "display_data"
    }
   ],
   "source": [
    "show_roc(clf.predict_proba(X_val_artists_featurized), X_val_artists_featurized, y_val_artists)"
   ]
  },
  {
   "cell_type": "markdown",
   "metadata": {},
   "source": [
    "### FastText Approach"
   ]
  },
  {
   "cell_type": "code",
   "execution_count": 31,
   "metadata": {},
   "outputs": [],
   "source": [
    "out_texts = [\"__label__{} {}\".format(genre_labels_reversed[y], x) for x, y in zip(X_train, y_train)]\n",
    "\n",
    "file = codecs.open(\"lyrics.train\", \"w\", \"utf-8\")\n",
    "file.write('\\n'.join(out_texts))\n",
    "file.close()"
   ]
  },
  {
   "cell_type": "code",
   "execution_count": 36,
   "metadata": {
    "scrolled": true
   },
   "outputs": [
    {
     "name": "stdout",
     "output_type": "stream",
     "text": [
      "WITHOUT PRETRAINED EMBEDDINGS\n",
      "----------- NG: 1 ------------\n",
      "Stats on val same artists\n",
      "\n",
      "Overall Accuracy: 0.757177033492823\n",
      "Precision for class rock: 0.6770833333333334\n",
      "Recall for class rock: 0.6989247311827957\n",
      "F1 for class rock: 0.6878306878306879\n",
      "Precision for class country: 0.7650273224043715\n",
      "Recall for class country: 0.7650273224043715\n",
      "F1 for class country: 0.7650273224043715\n",
      "Precision for class rap: 0.8804347826086957\n",
      "Recall for class rap: 0.8617021276595744\n",
      "F1 for class rap: 0.870967741935484\n",
      "Precision for class pop: 0.6486486486486487\n",
      "Recall for class pop: 0.6486486486486487\n",
      "F1 for class pop: 0.6486486486486487\n",
      "\n",
      "Stats on val new artists\n",
      "\n",
      "Overall Accuracy: 0.6541353383458647\n",
      "Precision for class rock: 0.5909090909090909\n",
      "Recall for class rock: 0.5909090909090909\n",
      "F1 for class rock: 0.5909090909090909\n",
      "Precision for class country: 0.5882352941176471\n",
      "Recall for class country: 0.7142857142857143\n",
      "F1 for class country: 0.6451612903225806\n",
      "Precision for class rap: 0.8761904761904762\n",
      "Recall for class rap: 0.9108910891089109\n",
      "F1 for class rap: 0.8932038834951457\n",
      "Precision for class pop: 0.5402298850574713\n",
      "Recall for class pop: 0.41964285714285715\n",
      "F1 for class pop: 0.4723618090452261\n",
      "\n",
      "Stats on train\n",
      "\n",
      "Overall Accuracy: 0.8633099675158147\n",
      "Precision for class rock: 0.8130733944954128\n",
      "Recall for class rock: 0.8161933998465081\n",
      "F1 for class rock: 0.8146304098046725\n",
      "Precision for class country: 0.8739495798319328\n",
      "Recall for class country: 0.8521553259707874\n",
      "F1 for class country: 0.8629148629148629\n",
      "Precision for class rap: 0.9254835039817975\n",
      "Recall for class rap: 0.932111142938986\n",
      "F1 for class rap: 0.9287855002140717\n",
      "Precision for class pop: 0.8221986567691764\n",
      "Recall for class pop: 0.8324982104509664\n",
      "F1 for class pop: 0.8273163791570336\n",
      "----------- NG: 2 ------------\n",
      "Stats on val same artists\n",
      "\n",
      "Overall Accuracy: 0.7523923444976076\n",
      "Precision for class rock: 0.671875\n",
      "Recall for class rock: 0.6581632653061225\n",
      "F1 for class rock: 0.6649484536082474\n",
      "Precision for class country: 0.7650273224043715\n",
      "Recall for class country: 0.7821229050279329\n",
      "F1 for class country: 0.7734806629834254\n",
      "Precision for class rap: 0.8913043478260869\n",
      "Recall for class rap: 0.825503355704698\n",
      "F1 for class rap: 0.8571428571428572\n",
      "Precision for class pop: 0.6162162162162163\n",
      "Recall for class pop: 0.6993865030674846\n",
      "F1 for class pop: 0.6551724137931035\n",
      "\n",
      "Stats on val new artists\n",
      "\n",
      "Overall Accuracy: 0.6040100250626567\n",
      "Precision for class rock: 0.5681818181818182\n",
      "Recall for class rock: 0.5376344086021505\n",
      "F1 for class rock: 0.5524861878453038\n",
      "Precision for class country: 0.5546218487394958\n",
      "Recall for class country: 0.6666666666666666\n",
      "F1 for class country: 0.6055045871559633\n",
      "Precision for class rap: 0.8285714285714286\n",
      "Recall for class rap: 0.7767857142857143\n",
      "F1 for class rap: 0.8018433179723502\n",
      "Precision for class pop: 0.4367816091954023\n",
      "Recall for class pop: 0.4\n",
      "F1 for class pop: 0.4175824175824176\n",
      "\n",
      "Stats on train\n",
      "\n",
      "Overall Accuracy: 0.9546931099333219\n",
      "Precision for class rock: 0.9212538226299695\n",
      "Recall for class rock: 0.9465828750981933\n",
      "F1 for class rock: 0.9337466098411469\n",
      "Precision for class country: 0.989769820971867\n",
      "Recall for class country: 0.9850909090909091\n",
      "F1 for class country: 0.9874248223072718\n",
      "Precision for class rap: 0.9658703071672355\n",
      "Recall for class rap: 0.9306659358728419\n",
      "F1 for class rap: 0.9479413817166783\n",
      "Precision for class pop: 0.9377872039589961\n",
      "Recall for class pop: 0.9636759898292772\n",
      "F1 for class pop: 0.9505553565030456\n",
      "----------- NG: 3 ------------\n",
      "Stats on val same artists\n",
      "\n",
      "Overall Accuracy: 0.7559808612440191\n",
      "Precision for class rock: 0.71875\n",
      "Recall for class rock: 0.6540284360189573\n",
      "F1 for class rock: 0.684863523573201\n",
      "Precision for class country: 0.7431693989071039\n",
      "Recall for class country: 0.7816091954022989\n",
      "F1 for class country: 0.761904761904762\n",
      "Precision for class rap: 0.8804347826086957\n",
      "Recall for class rap: 0.8466898954703833\n",
      "F1 for class rap: 0.8632326820603908\n",
      "Precision for class pop: 0.6216216216216216\n",
      "Recall for class pop: 0.7012195121951219\n",
      "F1 for class pop: 0.6590257879656161\n",
      "\n",
      "Stats on val new artists\n",
      "\n",
      "Overall Accuracy: 0.5939849624060151\n",
      "Precision for class rock: 0.5454545454545454\n",
      "Recall for class rock: 0.4948453608247423\n",
      "F1 for class rock: 0.5189189189189188\n",
      "Precision for class country: 0.5630252100840336\n",
      "Recall for class country: 0.7052631578947368\n",
      "F1 for class country: 0.6261682242990654\n",
      "Precision for class rap: 0.8095238095238095\n",
      "Recall for class rap: 0.7391304347826086\n",
      "F1 for class rap: 0.7727272727272727\n",
      "Precision for class pop: 0.42528735632183906\n",
      "Recall for class pop: 0.40217391304347827\n",
      "F1 for class pop: 0.41340782122905023\n",
      "\n",
      "Stats on train\n",
      "\n",
      "Overall Accuracy: 0.9564882885963413\n",
      "Precision for class rock: 0.9445718654434251\n",
      "Recall for class rock: 0.9299962363567934\n",
      "F1 for class rock: 0.9372273847904419\n",
      "Precision for class country: 0.9926927292656192\n",
      "Recall for class country: 0.990521327014218\n",
      "F1 for class country: 0.9916058394160584\n",
      "Precision for class rap: 0.9485210466439136\n",
      "Recall for class rap: 0.94368986983588\n",
      "F1 for class rap: 0.9460992907801418\n",
      "Precision for class pop: 0.9423824673029338\n",
      "Recall for class pop: 0.9645441389290883\n",
      "F1 for class pop: 0.9533345252994815\n",
      "----------- NG: 4 ------------\n",
      "Stats on val same artists\n",
      "\n",
      "Overall Accuracy: 0.7476076555023924\n",
      "Precision for class rock: 0.703125\n",
      "Recall for class rock: 0.6338028169014085\n",
      "F1 for class rock: 0.6666666666666667\n",
      "Precision for class country: 0.73224043715847\n",
      "Recall for class country: 0.7790697674418605\n",
      "F1 for class country: 0.7549295774647887\n",
      "Precision for class rap: 0.8731884057971014\n",
      "Recall for class rap: 0.8368055555555556\n",
      "F1 for class rap: 0.8546099290780141\n",
      "Precision for class pop: 0.6216216216216216\n",
      "Recall for class pop: 0.7055214723926381\n",
      "F1 for class pop: 0.6609195402298851\n",
      "\n",
      "Stats on val new artists\n",
      "\n",
      "Overall Accuracy: 0.5864661654135338\n",
      "Precision for class rock: 0.5227272727272727\n",
      "Recall for class rock: 0.4842105263157895\n",
      "F1 for class rock: 0.5027322404371585\n",
      "Precision for class country: 0.5462184873949579\n",
      "Recall for class country: 0.6842105263157895\n",
      "F1 for class country: 0.6074766355140186\n",
      "Precision for class rap: 0.8285714285714286\n",
      "Recall for class rap: 0.7372881355932204\n",
      "F1 for class rap: 0.7802690582959643\n",
      "Precision for class pop: 0.41379310344827586\n",
      "Recall for class pop: 0.3956043956043956\n",
      "F1 for class pop: 0.4044943820224719\n",
      "\n",
      "Stats on train\n",
      "\n",
      "Overall Accuracy: 0.9471704564882886\n",
      "Precision for class rock: 0.9273700305810397\n",
      "Recall for class rock: 0.9206831119544592\n",
      "F1 for class rock: 0.9240144734336317\n",
      "Precision for class country: 0.9945195469492145\n",
      "Recall for class country: 0.9873050417120058\n",
      "F1 for class country: 0.9908991627229706\n",
      "Precision for class rap: 0.941410693970421\n",
      "Recall for class rap: 0.927950658816933\n",
      "F1 for class rap: 0.9346322179867288\n",
      "Precision for class pop: 0.926829268292683\n",
      "Recall for class pop: 0.9572836801752465\n",
      "F1 for class pop: 0.9418103448275861\n",
      "----------- NG: 5 ------------\n",
      "Stats on val same artists\n",
      "\n",
      "Overall Accuracy: 0.7523923444976076\n",
      "Precision for class rock: 0.7083333333333334\n",
      "Recall for class rock: 0.6634146341463415\n",
      "F1 for class rock: 0.6851385390428212\n",
      "Precision for class country: 0.7431693989071039\n",
      "Recall for class country: 0.768361581920904\n",
      "F1 for class country: 0.7555555555555555\n",
      "Precision for class rap: 0.8804347826086957\n",
      "Recall for class rap: 0.8321917808219178\n",
      "F1 for class rap: 0.8556338028169015\n",
      "Precision for class pop: 0.6162162162162163\n",
      "Recall for class pop: 0.7037037037037037\n",
      "F1 for class pop: 0.6570605187319886\n",
      "\n",
      "Stats on val new artists\n",
      "\n",
      "Overall Accuracy: 0.5839598997493735\n",
      "Precision for class rock: 0.5113636363636364\n",
      "Recall for class rock: 0.47368421052631576\n",
      "F1 for class rock: 0.4918032786885245\n",
      "Precision for class country: 0.5378151260504201\n",
      "Recall for class country: 0.6881720430107527\n",
      "F1 for class country: 0.6037735849056604\n",
      "Precision for class rap: 0.8285714285714286\n",
      "Recall for class rap: 0.7372881355932204\n",
      "F1 for class rap: 0.7802690582959643\n",
      "Precision for class pop: 0.42528735632183906\n",
      "Recall for class pop: 0.3978494623655914\n",
      "F1 for class pop: 0.4111111111111111\n",
      "\n",
      "Stats on train\n",
      "\n",
      "Overall Accuracy: 0.938194563173192\n",
      "Precision for class rock: 0.9143730886850153\n",
      "Recall for class rock: 0.9136745607333843\n",
      "F1 for class rock: 0.9140236912495223\n",
      "Precision for class country: 0.989769820971867\n",
      "Recall for class country: 0.9836601307189542\n",
      "F1 for class country: 0.986705518120561\n",
      "Precision for class rap: 0.9340159271899886\n",
      "Recall for class rap: 0.9196303556426771\n",
      "F1 for class rap: 0.9267673204458868\n",
      "Precision for class pop: 0.9155178508306823\n",
      "Recall for class pop: 0.9401088929219601\n",
      "F1 for class pop: 0.927650429799427\n",
      "USING PRETRAINED EMBEDDINGS\n",
      "----------- NG: 1 ------------\n",
      "Stats on val same artists\n"
     ]
    },
    {
     "name": "stdout",
     "output_type": "stream",
     "text": [
      "\n",
      "Overall Accuracy: 0.7607655502392344\n",
      "Precision for class rock: 0.6875\n",
      "Recall for class rock: 0.6804123711340206\n",
      "F1 for class rock: 0.6839378238341969\n",
      "Precision for class country: 0.7540983606557377\n",
      "Recall for class country: 0.7752808988764045\n",
      "F1 for class country: 0.7645429362880887\n",
      "Precision for class rap: 0.8804347826086957\n",
      "Recall for class rap: 0.8741007194244604\n",
      "F1 for class rap: 0.8772563176895307\n",
      "Precision for class pop: 0.6648648648648648\n",
      "Recall for class pop: 0.6612903225806451\n",
      "F1 for class pop: 0.6630727762803235\n",
      "\n",
      "Stats on val new artists\n",
      "\n",
      "Overall Accuracy: 0.6491228070175439\n",
      "Precision for class rock: 0.6136363636363636\n",
      "Recall for class rock: 0.5684210526315789\n",
      "F1 for class rock: 0.5901639344262295\n",
      "Precision for class country: 0.5966386554621849\n",
      "Recall for class country: 0.7319587628865979\n",
      "F1 for class country: 0.6574074074074073\n",
      "Precision for class rap: 0.8380952380952381\n",
      "Recall for class rap: 0.9072164948453608\n",
      "F1 for class rap: 0.8712871287128713\n",
      "Precision for class pop: 0.5287356321839081\n",
      "Recall for class pop: 0.41818181818181815\n",
      "F1 for class pop: 0.46700507614213194\n",
      "\n",
      "Stats on train\n",
      "\n",
      "Overall Accuracy: 0.8927167037100359\n",
      "Precision for class rock: 0.8581804281345565\n",
      "Recall for class rock: 0.8424015009380863\n",
      "F1 for class rock: 0.8502177617875402\n",
      "Precision for class country: 0.9039093898428937\n",
      "Recall for class country: 0.8960521550162984\n",
      "F1 for class country: 0.8999636231356858\n",
      "Precision for class rap: 0.9354379977246872\n",
      "Recall for class rap: 0.9525050680567623\n",
      "F1 for class rap: 0.9438943894389439\n",
      "Precision for class pop: 0.8607281724991163\n",
      "Recall for class pop: 0.8637814827953175\n",
      "F1 for class pop: 0.8622521246458924\n",
      "----------- NG: 2 ------------\n",
      "Stats on val same artists\n",
      "\n",
      "Overall Accuracy: 0.7631578947368421\n",
      "Precision for class rock: 0.6979166666666666\n",
      "Recall for class rock: 0.6767676767676768\n",
      "F1 for class rock: 0.6871794871794872\n",
      "Precision for class country: 0.7431693989071039\n",
      "Recall for class country: 0.8192771084337349\n",
      "F1 for class country: 0.7793696275071634\n",
      "Precision for class rap: 0.9202898550724637\n",
      "Recall for class rap: 0.8115015974440895\n",
      "F1 for class rap: 0.862478777589134\n",
      "Precision for class pop: 0.6162162162162163\n",
      "Recall for class pop: 0.7169811320754716\n",
      "F1 for class pop: 0.6627906976744186\n",
      "\n",
      "Stats on val new artists\n",
      "\n",
      "Overall Accuracy: 0.6265664160401002\n",
      "Precision for class rock: 0.6477272727272727\n",
      "Recall for class rock: 0.5816326530612245\n",
      "F1 for class rock: 0.6129032258064516\n",
      "Precision for class country: 0.5546218487394958\n",
      "Recall for class country: 0.6534653465346535\n",
      "F1 for class country: 0.6000000000000001\n",
      "Precision for class rap: 0.8476190476190476\n",
      "Recall for class rap: 0.8725490196078431\n",
      "F1 for class rap: 0.8599033816425121\n",
      "Precision for class pop: 0.4367816091954023\n",
      "Recall for class pop: 0.3877551020408163\n",
      "F1 for class pop: 0.41081081081081083\n",
      "\n",
      "Stats on train\n",
      "\n",
      "Overall Accuracy: 0.9759787997948367\n",
      "Precision for class rock: 0.9541284403669725\n",
      "Recall for class rock: 0.975\n",
      "F1 for class rock: 0.964451313755796\n",
      "Precision for class country: 0.9930580928023384\n",
      "Recall for class country: 0.9959692194943203\n",
      "F1 for class country: 0.9945115257958288\n",
      "Precision for class rap: 0.9843572241183163\n",
      "Recall for class rap: 0.9531809418892867\n",
      "F1 for class rap: 0.9685182594095425\n",
      "Precision for class pop: 0.9692470837751855\n",
      "Recall for class pop: 0.9870410367170627\n",
      "F1 for class pop: 0.9780631353665061\n",
      "----------- NG: 3 ------------\n",
      "Stats on val same artists\n",
      "\n",
      "Overall Accuracy: 0.7655502392344498\n",
      "Precision for class rock: 0.7135416666666666\n",
      "Recall for class rock: 0.6650485436893204\n",
      "F1 for class rock: 0.6884422110552764\n",
      "Precision for class country: 0.7377049180327869\n",
      "Recall for class country: 0.8083832335329342\n",
      "F1 for class country: 0.7714285714285715\n",
      "Precision for class rap: 0.894927536231884\n",
      "Recall for class rap: 0.8430034129692833\n",
      "F1 for class rap: 0.868189806678383\n",
      "Precision for class pop: 0.654054054054054\n",
      "Recall for class pop: 0.711764705882353\n",
      "F1 for class pop: 0.6816901408450704\n",
      "\n",
      "Stats on val new artists\n",
      "\n",
      "Overall Accuracy: 0.6215538847117794\n",
      "Precision for class rock: 0.6477272727272727\n",
      "Recall for class rock: 0.5643564356435643\n",
      "F1 for class rock: 0.6031746031746031\n",
      "Precision for class country: 0.5462184873949579\n",
      "Recall for class country: 0.6565656565656566\n",
      "F1 for class country: 0.5963302752293578\n",
      "Precision for class rap: 0.8285714285714286\n",
      "Recall for class rap: 0.8207547169811321\n",
      "F1 for class rap: 0.8246445497630333\n",
      "Precision for class pop: 0.4482758620689655\n",
      "Recall for class pop: 0.41935483870967744\n",
      "F1 for class pop: 0.4333333333333333\n",
      "\n",
      "Stats on train\n",
      "\n",
      "Overall Accuracy: 0.9751239528124466\n",
      "Precision for class rock: 0.9751529051987767\n",
      "Recall for class rock: 0.9540014958863127\n",
      "F1 for class rock: 0.964461247637051\n",
      "Precision for class country: 0.9919620021921812\n",
      "Recall for class country: 0.9981617647058824\n",
      "F1 for class country: 0.9950522264980759\n",
      "Precision for class rap: 0.9661547212741752\n",
      "Recall for class rap: 0.9675306180575335\n",
      "F1 for class rap: 0.9668421801622316\n",
      "Precision for class pop: 0.9699540473665607\n",
      "Recall for class pop: 0.9824561403508771\n",
      "F1 for class pop: 0.976165065812878\n",
      "----------- NG: 4 ------------\n",
      "Stats on val same artists\n",
      "\n",
      "Overall Accuracy: 0.7691387559808612\n",
      "Precision for class rock: 0.7291666666666666\n",
      "Recall for class rock: 0.6666666666666666\n",
      "F1 for class rock: 0.6965174129353233\n",
      "Precision for class country: 0.726775956284153\n",
      "Recall for class country: 0.8209876543209876\n",
      "F1 for class country: 0.7710144927536232\n",
      "Precision for class rap: 0.8876811594202898\n",
      "Recall for class rap: 0.8536585365853658\n",
      "F1 for class rap: 0.8703374777975132\n",
      "Precision for class pop: 0.6756756756756757\n",
      "Recall for class pop: 0.7062146892655368\n",
      "F1 for class pop: 0.6906077348066298\n",
      "\n",
      "Stats on val new artists\n",
      "\n",
      "Overall Accuracy: 0.6015037593984962\n",
      "Precision for class rock: 0.5681818181818182\n",
      "Recall for class rock: 0.5050505050505051\n",
      "F1 for class rock: 0.5347593582887701\n",
      "Precision for class country: 0.5378151260504201\n",
      "Recall for class country: 0.6881720430107527\n",
      "F1 for class country: 0.6037735849056604\n",
      "Precision for class rap: 0.819047619047619\n",
      "Recall for class rap: 0.7818181818181819\n",
      "F1 for class rap: 0.7999999999999999\n",
      "Precision for class pop: 0.45977011494252873\n",
      "Recall for class pop: 0.41237113402061853\n",
      "F1 for class pop: 0.43478260869565216\n",
      "\n",
      "Stats on train\n",
      "\n",
      "Overall Accuracy: 0.9701658403145836\n",
      "Precision for class rock: 0.9671253822629969\n",
      "Recall for class rock: 0.947920569501686\n",
      "F1 for class rock: 0.9574266792809839\n",
      "Precision for class country: 0.9923273657289002\n",
      "Recall for class country: 0.9977957384276267\n",
      "F1 for class country: 0.9950540392013189\n",
      "Precision for class rap: 0.9621729237770194\n",
      "Recall for class rap: 0.9575431644494764\n",
      "F1 for class rap: 0.9598524613420344\n",
      "Precision for class pop: 0.9614704842700601\n",
      "Recall for class pop: 0.9805335255948089\n",
      "F1 for class pop: 0.9709084419061217\n",
      "----------- NG: 5 ------------\n",
      "Stats on val same artists\n",
      "\n",
      "Overall Accuracy: 0.7619617224880383\n",
      "Precision for class rock: 0.7083333333333334\n",
      "Recall for class rock: 0.6666666666666666\n",
      "F1 for class rock: 0.6868686868686869\n",
      "Precision for class country: 0.7213114754098361\n",
      "Recall for class country: 0.8148148148148148\n",
      "F1 for class country: 0.7652173913043478\n",
      "Precision for class rap: 0.8876811594202898\n",
      "Recall for class rap: 0.839041095890411\n",
      "F1 for class rap: 0.8626760563380282\n",
      "Precision for class pop: 0.6702702702702703\n",
      "Recall for class pop: 0.6966292134831461\n",
      "F1 for class pop: 0.6831955922865014\n",
      "\n",
      "Stats on val new artists\n",
      "\n",
      "Overall Accuracy: 0.5889724310776943\n",
      "Precision for class rock: 0.5340909090909091\n",
      "Recall for class rock: 0.4845360824742268\n",
      "F1 for class rock: 0.5081081081081081\n",
      "Precision for class country: 0.5210084033613446\n",
      "Recall for class country: 0.6888888888888889\n",
      "F1 for class country: 0.5933014354066986\n",
      "Precision for class rap: 0.819047619047619\n",
      "Recall for class rap: 0.7543859649122807\n",
      "F1 for class rap: 0.7853881278538812\n",
      "Precision for class pop: 0.45977011494252873\n",
      "Recall for class pop: 0.40816326530612246\n",
      "F1 for class pop: 0.4324324324324324\n",
      "\n",
      "Stats on train\n",
      "\n",
      "Overall Accuracy: 0.9602496153188579\n",
      "Precision for class rock: 0.9457186544342507\n",
      "Recall for class rock: 0.9385432473444613\n",
      "F1 for class rock: 0.942117288651942\n",
      "Precision for class country: 0.9930580928023384\n",
      "Recall for class country: 0.9959692194943203\n",
      "F1 for class country: 0.9945115257958288\n",
      "Precision for class rap: 0.9536405005688282\n",
      "Recall for class rap: 0.9434440067529544\n",
      "F1 for class rap: 0.9485148514851485\n",
      "Precision for class pop: 0.9501590668080594\n",
      "Recall for class pop: 0.9672544080604534\n",
      "F1 for class pop: 0.9586305278174037\n"
     ]
    }
   ],
   "source": [
    "print(\"WITHOUT PRETRAINED EMBEDDINGS\")\n",
    "for ng in range(1, 6):\n",
    "    print(\"----------- NG: {} ------------\".format(ng))\n",
    "    if os.path.isfile(\"NG{}.weights\".format(ng)):\n",
    "        model = load_model(\"NG{}.weights\".format(ng))\n",
    "    else:\n",
    "        model = train_supervised(\n",
    "                input='lyrics.train', epoch=10, lr=1.0, wordNgrams=ng, minCount=1, dim=300, verbose=2\n",
    "        )\n",
    "        model.save_model(\"NG{}.weights\".format(ng))\n",
    "    print(\"Stats on val same artists\\n\")\n",
    "    preds = [genre_labels[model.predict(x)[0][0].replace('__label__', '')] for x in X_val]\n",
    "    get_stats(preds, y_val, genre_labels_reversed)\n",
    "    print(\"\\nStats on val new artists\\n\")\n",
    "    preds = [genre_labels[model.predict(x)[0][0].replace('__label__', '')] for x in X_val_artists]\n",
    "    get_stats(preds, y_val_artists, genre_labels_reversed)\n",
    "    print(\"\\nStats on train\\n\")\n",
    "    preds = [genre_labels[model.predict(x)[0][0].replace('__label__', '')] for x in X_train]\n",
    "    get_stats(preds, y_train, genre_labels_reversed)\n",
    "    \n",
    "print(\"USING PRETRAINED EMBEDDINGS\") \n",
    "for ng in range(1, 6):\n",
    "    print(\"----------- NG: {} ------------\".format(ng))\n",
    "    if os.path.isfile(\"NG{}_pretrained.weights\".format(ng)):\n",
    "        model = load_model(\"NG{}_pretrained.weights\".format(ng))\n",
    "    else:\n",
    "        model = train_supervised(\n",
    "            input='lyrics.train', epoch=10, lr=1.0, wordNgrams=ng, minCount=1, dim=300, verbose=2, pretrainedVectors=\"wiki.en.vec\"\n",
    "        )\n",
    "        model.save_model(\"NG{}_pretrained.weights\".format(ng))\n",
    "    \n",
    "    print(\"Stats on val same artists\\n\")\n",
    "    preds = [genre_labels[model.predict(x)[0][0].replace('__label__', '')] for x in X_val]\n",
    "    get_stats(preds, y_val, genre_labels_reversed)\n",
    "    print(\"\\nStats on val new artists\\n\")\n",
    "    preds = [genre_labels[model.predict(x)[0][0].replace('__label__', '')] for x in X_val_artists]\n",
    "    get_stats(preds, y_val_artists, genre_labels_reversed)\n",
    "    print(\"\\nStats on train\\n\")\n",
    "    preds = [genre_labels[model.predict(x)[0][0].replace('__label__', '')] for x in X_train]\n",
    "    get_stats(preds, y_train, genre_labels_reversed)"
   ]
  },
  {
   "cell_type": "code",
   "execution_count": 159,
   "metadata": {},
   "outputs": [],
   "source": [
    "model = load_model(\"NG{}.weights\".format(3))\n"
   ]
  },
  {
   "cell_type": "code",
   "execution_count": 160,
   "metadata": {},
   "outputs": [],
   "source": [
    "x_val_preds = [model.predict(x, k=4) for x in X_val]"
   ]
  },
  {
   "cell_type": "code",
   "execution_count": 162,
   "metadata": {
    "scrolled": false
   },
   "outputs": [
    {
     "data": {
      "image/png": "[encoded data removed]",
      "text/plain": [
       "<matplotlib.figure.Figure at 0x1cda6d2e668>"
      ]
     },
     "metadata": {},
     "output_type": "display_data"
    }
   ],
   "source": [
    "indeces = [[genre_labels[lab.replace(\"__label__\", \"\")] for lab in cur_pred[0]] for cur_pred in x_val_preds]\n",
    "preds = np.array([np.array(x_val_preds2[i][1][indeces[i]]) for i in range(len(x_val_preds))])\n",
    "show_roc(preds, y_val)"
   ]
  },
  {
   "cell_type": "markdown",
   "metadata": {},
   "source": [
    "### RNN"
   ]
  },
  {
   "cell_type": "code",
   "execution_count": 20,
   "metadata": {},
   "outputs": [
    {
     "name": "stdout",
     "output_type": "stream",
     "text": [
      "(11698, 200)\n"
     ]
    }
   ],
   "source": [
    "max_features = 2000\n",
    "embed_dim = 128\n",
    "lstm_out = 100\n",
    "X_train_shortened = np.array([x[:min(1000, len(x))] for x in X_train])\n",
    "\n",
    "tokenizer = Tokenizer(num_words=max_features, split=' ')\n",
    "tokenizer.fit_on_texts(X_train)\n",
    "X_train_tokenized = tokenizer.texts_to_sequences(X_train_shortened)\n",
    "X_train_tokenized = pad_sequences(X_train_tokenized, maxlen=200)\n",
    "# X_train_tokenized = np.array(np.array(v[0:100]) for v in X_train_tokenized)\n",
    "print(X_train_tokenized.shape)"
   ]
  },
  {
   "cell_type": "code",
   "execution_count": 35,
   "metadata": {
    "scrolled": true
   },
   "outputs": [
    {
     "name": "stdout",
     "output_type": "stream",
     "text": [
      "_________________________________________________________________\n",
      "Layer (type)                 Output Shape              Param #   \n",
      "=================================================================\n",
      "embedding_2 (Embedding)      (None, 200, 128)          256000    \n",
      "_________________________________________________________________\n",
      "conv1d_3 (Conv1D)            (None, 200, 50)           19250     \n",
      "_________________________________________________________________\n",
      "dropout_3 (Dropout)          (None, 200, 50)           0         \n",
      "_________________________________________________________________\n",
      "conv1d_4 (Conv1D)            (None, 200, 100)          15100     \n",
      "_________________________________________________________________\n",
      "dropout_4 (Dropout)          (None, 200, 100)          0         \n",
      "_________________________________________________________________\n",
      "lstm_2 (LSTM)                (None, 100)               80400     \n",
      "_________________________________________________________________\n",
      "dense_2 (Dense)              (None, 4)                 404       \n",
      "=================================================================\n",
      "Total params: 371,154\n",
      "Trainable params: 371,154\n",
      "Non-trainable params: 0\n",
      "_________________________________________________________________\n",
      "None\n"
     ]
    }
   ],
   "source": [
    "def labels_to_onehot(labels):\n",
    "    def to_onehot(x):\n",
    "        return [0 if i != x else 1 for i in range(4)]\n",
    "    return np.array([to_onehot(x) for x in labels])\n",
    "\n",
    "\n",
    "\n",
    "\n",
    "model = Sequential()\n",
    "model.add(Embedding(max_features, embed_dim,input_length = X_train_tokenized.shape[1]))\n",
    "model.add(Conv1D(filters=50, kernel_size=3, padding='same', activation='relu'))\n",
    "model.add(Dropout(0.5))\n",
    "model.add(Conv1D(filters=100, kernel_size=3, padding='same', activation='relu'))\n",
    "model.add(Dropout(0.5))\n",
    "model.add(LSTM(lstm_out, dropout=0.3, recurrent_dropout=0.4))\n",
    "model.add(Dense(4,activation='softmax'))\n",
    "model.compile(loss = 'categorical_crossentropy', optimizer=Adam(lr=0.0003, beta_1=0.9, beta_2=0.999, epsilon=None, decay=0.0, amsgrad=False),metrics = ['accuracy'])\n",
    "print(model.summary())"
   ]
  },
  {
   "cell_type": "code",
   "execution_count": 36,
   "metadata": {},
   "outputs": [
    {
     "name": "stdout",
     "output_type": "stream",
     "text": [
      "(11698, 200)\n"
     ]
    }
   ],
   "source": [
    "print(X_train_tokenized.shape)"
   ]
  },
  {
   "cell_type": "code",
   "execution_count": 40,
   "metadata": {
    "scrolled": true
   },
   "outputs": [
    {
     "name": "stdout",
     "output_type": "stream",
     "text": [
      "Epoch 1/5\n",
      "11698/11698 [==============================] - 40s 3ms/step - loss: 0.5989 - acc: 0.7735\n",
      "Epoch 2/5\n",
      "11698/11698 [==============================] - 41s 3ms/step - loss: 0.5886 - acc: 0.7758\n",
      "Epoch 3/5\n",
      "11698/11698 [==============================] - 42s 4ms/step - loss: 0.5886 - acc: 0.7783\n",
      "Epoch 4/5\n",
      "11698/11698 [==============================] - 38s 3ms/step - loss: 0.6032 - acc: 0.7741\n",
      "Epoch 5/5\n",
      "11698/11698 [==============================] - 37s 3ms/step - loss: 0.5817 - acc: 0.7815\n"
     ]
    },
    {
     "data": {
      "text/plain": [
       "<keras.callbacks.History at 0x1ccb76cea20>"
      ]
     },
     "execution_count": 40,
     "metadata": {},
     "output_type": "execute_result"
    }
   ],
   "source": [
    "model.fit(X_train_tokenized, labels_to_onehot(y_train), batch_size=200, epochs=5)"
   ]
  },
  {
   "cell_type": "code",
   "execution_count": 41,
   "metadata": {
    "scrolled": false
   },
   "outputs": [
    {
     "name": "stdout",
     "output_type": "stream",
     "text": [
      "Overall Accuracy: 0.6973684210526315\n",
      "Precision for class rock: 0.5364583333333334\n",
      "Recall for class rock: 0.5852272727272727\n",
      "F1 for class rock: 0.5597826086956522\n",
      "Precision for class country: 0.6994535519125683\n",
      "Recall for class country: 0.6432160804020101\n",
      "F1 for class country: 0.6701570680628273\n",
      "Precision for class rap: 0.8768115942028986\n",
      "Recall for class rap: 0.8203389830508474\n",
      "F1 for class rap: 0.8476357267950964\n",
      "Precision for class pop: 0.5945945945945946\n",
      "Recall for class pop: 0.6626506024096386\n",
      "F1 for class pop: 0.6267806267806268\n"
     ]
    },
    {
     "data": {
      "image/png": "[encoded data removed]",
      "text/plain": [
       "<matplotlib.figure.Figure at 0x1ccb76d2be0>"
      ]
     },
     "metadata": {},
     "output_type": "display_data"
    }
   ],
   "source": [
    "X_val_shortened = np.array([x[:min(1000, len(x))] for x in X_val])\n",
    "prob_preds = model.predict(pad_sequences(tokenizer.texts_to_sequences(X_val_shortened), maxlen=200))\n",
    "get_stats(np.argmax(prob_preds, axis=-1), y_val, genre_labels_reversed)\n",
    "show_roc(prob_preds, y_val)"
   ]
  },
  {
   "cell_type": "code",
   "execution_count": 42,
   "metadata": {
    "scrolled": true
   },
   "outputs": [
    {
     "name": "stdout",
     "output_type": "stream",
     "text": [
      "Overall Accuracy: 0.6290726817042607\n",
      "Precision for class rock: 0.5340909090909091\n",
      "Recall for class rock: 0.5529411764705883\n",
      "F1 for class rock: 0.5433526011560694\n",
      "Precision for class country: 0.6050420168067226\n",
      "Recall for class country: 0.5950413223140496\n",
      "F1 for class country: 0.6\n",
      "Precision for class rap: 0.8\n",
      "Recall for class rap: 0.8936170212765957\n",
      "F1 for class rap: 0.8442211055276382\n",
      "Precision for class pop: 0.5517241379310345\n",
      "Recall for class pop: 0.48484848484848486\n",
      "F1 for class pop: 0.5161290322580646\n"
     ]
    },
    {
     "data": {
      "image/png": "[encoded data removed]",
      "text/plain": [
       "<matplotlib.figure.Figure at 0x1ccb77116d8>"
      ]
     },
     "metadata": {},
     "output_type": "display_data"
    }
   ],
   "source": [
    "X_val_shortened = np.array([x[:min(1000, len(x))] for x in X_val_artists])\n",
    "prob_preds = model.predict(pad_sequences(tokenizer.texts_to_sequences(X_val_shortened), maxlen=200))\n",
    "get_stats(np.argmax(prob_preds, axis=-1), y_val_artists, genre_labels_reversed)\n",
    "show_roc(prob_preds, y_val_artists)"
   ]
  }
 ],
 "metadata": {
  "kernelspec": {
   "display_name": "Python 3",
   "language": "python",
   "name": "python3"
  },
  "language_info": {
   "codemirror_mode": {
    "name": "ipython",
    "version": 3
   },
   "file_extension": ".py",
   "mimetype": "text/x-python",
   "name": "python",
   "nbconvert_exporter": "python",
   "pygments_lexer": "ipython3",
   "version": "3.6.3"
  }
 },
 "nbformat": 4,
 "nbformat_minor": 2
}
